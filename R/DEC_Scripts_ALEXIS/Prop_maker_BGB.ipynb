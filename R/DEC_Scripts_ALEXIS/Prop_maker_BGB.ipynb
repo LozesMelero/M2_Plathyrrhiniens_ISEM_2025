{
 "cells": [
  {
   "cell_type": "markdown",
   "metadata": {},
   "source": [
    "# Compute ancestral state proportion BioGeoBEARS"
   ]
  },
  {
   "cell_type": "markdown",
   "metadata": {},
   "source": [
    "## Loading packages"
   ]
  },
  {
   "cell_type": "code",
   "execution_count": null,
   "metadata": {},
   "outputs": [],
   "source": [
    "library(\"ape\")"
   ]
  },
  {
   "cell_type": "code",
   "execution_count": null,
   "metadata": {},
   "outputs": [],
   "source": [
    "args = commandArgs(trailingOnly=TRUE)"
   ]
  },
  {
   "cell_type": "markdown",
   "metadata": {},
   "source": [
    "## Create useful functions"
   ]
  },
  {
   "cell_type": "markdown",
   "metadata": {},
   "source": [
    "### Transform BGB output to keep the three most likely ancestral ranges"
   ]
  },
  {
   "cell_type": "code",
   "execution_count": null,
   "metadata": {},
   "outputs": [],
   "source": [
    "prepare_df_BGB <- function(data_bgb){\n",
    "     data_BGB_0 <- data.frame(matrix(nrow = nrow(data_bgb$relative_probs_of_each_state_at_branch_bottom_below_node_UPPASS),\n",
    "                                ncol = 8))\n",
    "      colnames(data_BGB_0) <- c(\"end_state_1\", \"end_state_2\", \"end_state_3\",\n",
    "                              \"end_state_1_pp\", \"end_state_2_pp\", \"end_state_3_pp\", \n",
    "                              \"end_state_other_pp\", \"node\")\n",
    "\n",
    "    for (i in 1:nrow(data_bgb$ML_marginal_prob_each_state_at_branch_top_AT_node)) {\n",
    "        row <- data_bgb$ML_marginal_prob_each_state_at_branch_top_AT_node[i,]\n",
    "        data_BGB_0[i, 1] <- order(row,decreasing=T)[1]\n",
    "        data_BGB_0[i, 2] <- order(row,decreasing=T)[2]\n",
    "        data_BGB_0[i, 3] <- order(row,decreasing=T)[3]\n",
    "        data_BGB_0[i, 4] <- row[order(row,decreasing=T)[1]]\n",
    "        data_BGB_0[i, 5] <- row[order(row,decreasing=T)[2]]\n",
    "        data_BGB_0[i, 6] <- row[order(row,decreasing=T)[3]]\n",
    "        data_BGB_0[i, 7] <- sum(row[order(row,decreasing=T)[4:length(row)]]) \n",
    "        data_BGB_0[i, 8] <- i\n",
    "    }\n",
    "    \n",
    "    states_BGB <- sort(unique(c(data_BGB_0$end_state_1,data_BGB_0$end_state_2, data_BGB_0$end_state_3)))\n",
    "    full_data <- c()\n",
    "    for(i in 1:nrow(data_BGB_0)){\n",
    "        temp_row <- rep(0, length(states_BGB))\n",
    "        temp_row[which(states_BGB == data_BGB_0[i,1])] <- data_BGB_0[i, 4]\n",
    "        temp_row[which(states_BGB == data_BGB_0[i,2])] <- data_BGB_0[i, 5]\n",
    "        temp_row[which(states_BGB == data_BGB_0[i,3])] <- data_BGB_0[i, 6]\n",
    "        temp_row[length(states_BGB)+1] <- data_BGB_0[i, 7]\n",
    "        full_data <- rbind(full_data, temp_row)\n",
    "    }\n",
    "    full_data <- as.data.frame(cbind(full_data, data_BGB_0$node))\n",
    "    colnames(full_data) <- c(as.character(states_BGB), \"Uncertain\", \"node\")\n",
    "    rownames(full_data) <- data_BGB_0$node\n",
    "return(full_data)\n",
    "}"
   ]
  },
  {
   "cell_type": "markdown",
   "metadata": {},
   "source": [
    "### Function for targeting specific nodes"
   ]
  },
  {
   "cell_type": "code",
   "execution_count": null,
   "metadata": {},
   "outputs": [],
   "source": [
    "clean_data <- function(res, filter){\n",
    "    temp <-  unlist(as.vector(prepare_df_BGB(res)[filter, -ncol(prepare_df_BGB(res))]))\n",
    "    temp <- temp[temp != 0]\n",
    "    return(temp)\n",
    "}"
   ]
  },
  {
   "cell_type": "markdown",
   "metadata": {},
   "source": [
    "### Compute ancestral range proportion by node"
   ]
  },
  {
   "cell_type": "code",
   "execution_count": null,
   "metadata": {},
   "outputs": [],
   "source": [
    "make_data <- function(data_list){\n",
    "    data_cleaned <- c()\n",
    "    sorted_colnames <- c(sort(as.numeric(unique(names(unlist(data_list))))), \"Uncertain\")\n",
    "    for(i in data_list){\n",
    "        vec_temp <- rep(NA, length(sorted_colnames))\n",
    "        names(vec_temp) <- sorted_colnames\n",
    "        for(j in 1:length(round(tapply(i, names(i), sum)/100,3))){\n",
    "            vec_temp[names(vec_temp) == names(round(tapply(i, names(i), sum)/100,3)[j])] <- paste(round(tapply(i, names(i), sum)/100,3)[j], \"土\", round(tapply(i, names(i), sd),3)[j],sep = \" \")\n",
    "        }\n",
    "        data_cleaned <- rbind(data_cleaned, vec_temp)\n",
    "\n",
    "    }   \n",
    "    data_cleaned <- as.data.frame(data_cleaned)\n",
    "    rownames(data_cleaned) <- c(\"Parascylliidae\", \"Brachaeluridae\", \"Orectolobidae\", \"Brachaeluridae + Orectolobidae\",\n",
    "                                \"Ginglymostomatidae + Rhincodontidae + Stegostomatidae\", \"Hemiscylliidae\", \"Hemiscylliidae + Ginglymostomatidae + Rhincodontidae + Stegostomatidae\", \"Root\")\n",
    "    return(data_cleaned)\n",
    "}"
   ]
  },
  {
   "cell_type": "code",
   "execution_count": null,
   "metadata": {},
   "outputs": [],
   "source": [
    "temp_para <- c()\n",
    "temp_brach <- c()\n",
    "temp_orecto <- c()\n",
    "temp_brach_orecto <- c()\n",
    "temp_gingly <- c()\n",
    "temp_hemi <- c()\n",
    "temp_gingly_hemi <- c()\n",
    "temp_root <- c()\n",
    "\n",
    "for(i in list.files(args[1], full.names = TRUE)){\n",
    "    \n",
    "    load(i)\n",
    "    temp_tree <- read.tree(res$inputs$trfn)\n",
    "    \n",
    "    parascylliidae <- getMRCA(temp_tree, c('Parascyllium_collare','Parascyllium_ferrugineum','Cirrhoscyllium_formosanum'))\n",
    "    brachaeluridae <- getMRCA(temp_tree, c('Brachaelurus_waddi','Brachaelurus_colcloughi'))\n",
    "    orectolobidae <- getMRCA(temp_tree, c('Orectolobus_floridus','Sutorectus_tentaculatus','Orectolobus_ornatus','Orectolobus_hutchinsi','Orectolobus_parvimaculatus','Orectolobus_maculatus','Orectolobus_leptolineatus','Orectolobus_japonicus','Orectolobus_halei','Eucrossorhinus_dasypogon','Orectolobus_wardi','Orectolobus_reticulatus'))\n",
    "    brachae_orecto <- getMRCA(temp_tree, c('Brachaelurus_waddi','Brachaelurus_colcloughi','Orectolobus_floridus','Sutorectus_tentaculatus','Orectolobus_ornatus','Orectolobus_hutchinsi','Orectolobus_parvimaculatus','Orectolobus_maculatus','Orectolobus_leptolineatus','Orectolobus_japonicus','Orectolobus_halei','Eucrossorhinus_dasypogon','Orectolobus_wardi','Orectolobus_reticulatus'))\n",
    "    ginglymo_stego_rhinco <- getMRCA(temp_tree, c('Ginglymostoma_cirratum','Ginglymostoma_unami','Nebrius_ferrugineus','Rhincodon_typus','Pseudoginglymostoma_brevicaudatum','Stegostoma_fasciatum'))\n",
    "    hemiscylliidae <- getMRCA(temp_tree, c('Hemiscyllium_ocellatum','Hemiscyllium_michaeli','Hemiscyllium_trispeculare','Hemiscyllium_hallstromi','Hemiscyllium_halmahera','Hemiscyllium_galei','Hemiscyllium_henryi','Hemiscyllium_strahani','Chiloscyllium_griseum','Chiloscyllium_hasseltii','Chiloscyllium_arabicum','Chiloscyllium_burmensis','Chiloscyllium_plagiosum','Chiloscyllium_indicum','Chiloscyllium_punctatum'))\n",
    "    ginglymo_stego_rhinco_hemiscyllium <- getMRCA(temp_tree, c('Ginglymostoma_cirratum','Ginglymostoma_unami','Nebrius_ferrugineus','Rhincodon_typus','Pseudoginglymostoma_brevicaudatum','Stegostoma_fasciatum', 'Hemiscyllium_ocellatum','Hemiscyllium_michaeli','Hemiscyllium_trispeculare','Hemiscyllium_hallstromi','Hemiscyllium_halmahera','Hemiscyllium_galei','Hemiscyllium_henryi','Hemiscyllium_strahani','Chiloscyllium_griseum','Chiloscyllium_hasseltii','Chiloscyllium_arabicum','Chiloscyllium_burmensis','Chiloscyllium_plagiosum','Chiloscyllium_indicum','Chiloscyllium_punctatum'))\n",
    "    root_orectolobiformes <- getMRCA(temp_tree, temp_tree$tip.label)\n",
    "    \n",
    "    temp_para <- c(temp_para, clean_data(res, parascylliidae))\n",
    "    temp_brach <- c(temp_brach, clean_data(res, brachaeluridae))\n",
    "    temp_orecto <- c(temp_orecto, clean_data(res, orectolobidae))\n",
    "    temp_brach_orecto<- c(temp_brach_orecto, clean_data(res, brachae_orecto))\n",
    "    temp_gingly <- c(temp_gingly, clean_data(res, ginglymo_stego_rhinco))\n",
    "    temp_hemi <- c(temp_hemi, clean_data(res, hemiscylliidae))\n",
    "    temp_gingly_hemi <- c(temp_gingly_hemi, clean_data(res, ginglymo_stego_rhinco_hemiscyllium))\n",
    "    temp_root <- c(temp_root, clean_data(res, root_orectolobiformes))\n",
    "}"
   ]
  },
  {
   "cell_type": "code",
   "execution_count": null,
   "metadata": {},
   "outputs": [],
   "source": [
    "data_list <- list(temp_para,temp_brach, temp_orecto, temp_brach_orecto, temp_gingly, temp_hemi, temp_gingly_hemi, temp_root)"
   ]
  },
  {
   "cell_type": "code",
   "execution_count": null,
   "metadata": {},
   "outputs": [],
   "source": [
    "write.table(make_data(data_list), paste(\"../DEC_Results/ARE_proportion/Prop_\", args[2], \".tsv\", sep = \"\"), sep =\"\\t\", quote = FALSE)"
   ]
  },
  {
   "cell_type": "code",
   "execution_count": null,
   "metadata": {},
   "outputs": [],
   "source": [
    "res$inputs$states_list"
   ]
  }
 ],
 "metadata": {
  "kernelspec": {
   "display_name": "R",
   "language": "R",
   "name": "ir"
  },
  "language_info": {
   "codemirror_mode": "r",
   "file_extension": ".r",
   "mimetype": "text/x-r-source",
   "name": "R",
   "pygments_lexer": "r",
   "version": "4.3.3"
  }
 },
 "nbformat": 4,
 "nbformat_minor": 4
}
