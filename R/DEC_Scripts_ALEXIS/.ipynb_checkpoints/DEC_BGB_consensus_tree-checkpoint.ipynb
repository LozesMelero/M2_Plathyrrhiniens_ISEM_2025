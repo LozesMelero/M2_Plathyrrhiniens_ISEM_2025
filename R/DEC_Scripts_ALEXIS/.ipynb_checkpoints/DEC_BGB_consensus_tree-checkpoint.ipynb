{
 "cells": [
  {
   "cell_type": "markdown",
   "metadata": {},
   "source": [
    "# DEC (BGB) consensus tree"
   ]
  },
  {
   "cell_type": "markdown",
   "metadata": {},
   "source": [
    "## Loading data"
   ]
  },
  {
   "cell_type": "code",
   "execution_count": null,
   "metadata": {
    "scrolled": true
   },
   "outputs": [],
   "source": [
    "library(\"ape\")\n",
    "library(\"optimx\")\n",
    "library(\"GenSA\")\n",
    "library(\"rexpokit\")\n",
    "library(\"cladoRcpp\")\n",
    "library(\"snow\") \n",
    "library(\"parallel\")\n",
    "library(\"BioGeoBEARS\")"
   ]
  },
  {
   "cell_type": "code",
   "execution_count": null,
   "metadata": {},
   "outputs": [],
   "source": [
    "args = commandArgs(trailingOnly=TRUE)"
   ]
  },
  {
   "cell_type": "markdown",
   "metadata": {},
   "source": [
    "### Create function for fixing fossils"
   ]
  },
  {
   "cell_type": "code",
   "execution_count": null,
   "metadata": {},
   "outputs": [],
   "source": [
    "make_matrix <- function(max_range, total_area, constraint){\n",
    "    final_vec <- c()\n",
    "    for(i in 1:max_range){\n",
    "        temp_mat <- combn(1:total_area, i)\n",
    "        temp_vec <- rep(0, ncol(temp_mat))\n",
    "        for(j in 1:ncol(temp_mat)){\n",
    "            if(constraint %in% temp_mat[,j]){\n",
    "                temp_vec[j] <- 1\n",
    "            }\n",
    "        }\n",
    "        final_vec <- c(final_vec, temp_vec)\n",
    "    }\n",
    "    return(final_vec)\n",
    "}"
   ]
  },
  {
   "cell_type": "markdown",
   "metadata": {},
   "source": [
    "### Loading Tree"
   ]
  },
  {
   "cell_type": "code",
   "execution_count": null,
   "metadata": {},
   "outputs": [],
   "source": [
    "phy = paste(\"../../../Data/consensus_tree_orecto.tree\", sep = \"\")\n",
    "temp <- read.tree(phy)"
   ]
  },
  {
   "cell_type": "markdown",
   "metadata": {},
   "source": [
    "### Loading presence-absence matrix"
   ]
  },
  {
   "cell_type": "code",
   "execution_count": null,
   "metadata": {},
   "outputs": [],
   "source": [
    "table_geo = \"../../../Data/DEC_BGB/7_area_biogeography_Orecto.txt\""
   ]
  },
  {
   "cell_type": "markdown",
   "metadata": {},
   "source": [
    "### Loading time period file"
   ]
  },
  {
   "cell_type": "code",
   "execution_count": null,
   "metadata": {},
   "outputs": [],
   "source": [
    "time_period= \"../../../Data/DEC_BGB/7_area_time_period.txt\""
   ]
  },
  {
   "cell_type": "markdown",
   "metadata": {},
   "source": [
    "### Loading connectivity matrix"
   ]
  },
  {
   "cell_type": "code",
   "execution_count": null,
   "metadata": {},
   "outputs": [],
   "source": [
    "connectivity_matrix = \"../../../Data/DEC_BGB/7_area_area_matrix.txt\""
   ]
  },
  {
   "cell_type": "markdown",
   "metadata": {},
   "source": [
    "### Loading dispersal matrix"
   ]
  },
  {
   "cell_type": "code",
   "execution_count": null,
   "metadata": {},
   "outputs": [],
   "source": [
    "if(args[1]){\n",
    "    dispersal_matrix = \"../../../Data/DEC_BGB/7_area_dispersal_matrix.txt\"\n",
    "}"
   ]
  },
  {
   "cell_type": "markdown",
   "metadata": {},
   "source": [
    "## Setting up DEC"
   ]
  },
  {
   "cell_type": "markdown",
   "metadata": {},
   "source": [
    "### Intitialize DEC model"
   ]
  },
  {
   "cell_type": "code",
   "execution_count": null,
   "metadata": {},
   "outputs": [],
   "source": [
    "DEC_orectolobiformes = define_BioGeoBEARS_run()"
   ]
  },
  {
   "cell_type": "markdown",
   "metadata": {},
   "source": [
    "### Setting up DEC input data"
   ]
  },
  {
   "cell_type": "markdown",
   "metadata": {},
   "source": [
    "#### Phylogeny"
   ]
  },
  {
   "cell_type": "code",
   "execution_count": null,
   "metadata": {},
   "outputs": [],
   "source": [
    "DEC_orectolobiformes$trfn = phy"
   ]
  },
  {
   "cell_type": "markdown",
   "metadata": {},
   "source": [
    "#### Presence-absence matrix"
   ]
  },
  {
   "cell_type": "code",
   "execution_count": null,
   "metadata": {},
   "outputs": [],
   "source": [
    "DEC_orectolobiformes$geogfn = table_geo"
   ]
  },
  {
   "cell_type": "markdown",
   "metadata": {},
   "source": [
    "#### Tip range"
   ]
  },
  {
   "cell_type": "code",
   "execution_count": null,
   "metadata": {},
   "outputs": [],
   "source": [
    "tipranges = getranges_from_LagrangePHYLIP(lgdata_fn=table_geo)"
   ]
  },
  {
   "cell_type": "markdown",
   "metadata": {},
   "source": [
    "#### Maximum range size"
   ]
  },
  {
   "cell_type": "code",
   "execution_count": null,
   "metadata": {},
   "outputs": [],
   "source": [
    "max_range_size = 6\n",
    "DEC_orectolobiformes$max_range_size = max_range_size"
   ]
  },
  {
   "cell_type": "markdown",
   "metadata": {},
   "source": [
    "#### State list"
   ]
  },
  {
   "cell_type": "code",
   "execution_count": null,
   "metadata": {},
   "outputs": [],
   "source": [
    "areas = getareas_from_tipranges_object(tipranges)\n",
    "states_area_list = rcpp_areas_list_to_states_list(areas=areas, maxareas=max_range_size, include_null_range=FALSE)\n",
    "DEC_orectolobiformes$states_list = states_area_list"
   ]
  },
  {
   "cell_type": "markdown",
   "metadata": {},
   "source": [
    "#### Time periods"
   ]
  },
  {
   "cell_type": "code",
   "execution_count": null,
   "metadata": {},
   "outputs": [],
   "source": [
    "DEC_orectolobiformes$timesfn = time_period"
   ]
  },
  {
   "cell_type": "code",
   "execution_count": null,
   "metadata": {},
   "outputs": [],
   "source": [
    "DEC_orectolobiformes$timeperiods = unlist((unname(c(read.table(time_period)))))"
   ]
  },
  {
   "cell_type": "markdown",
   "metadata": {},
   "source": [
    "#### Connectivity matrix"
   ]
  },
  {
   "cell_type": "code",
   "execution_count": null,
   "metadata": {},
   "outputs": [],
   "source": [
    "DEC_orectolobiformes$areas_adjacency_fn = connectivity_matrix"
   ]
  },
  {
   "cell_type": "markdown",
   "metadata": {},
   "source": [
    "#### Dispersal matrix"
   ]
  },
  {
   "cell_type": "code",
   "execution_count": null,
   "metadata": {},
   "outputs": [],
   "source": [
    "if(args[1]){\n",
    "    DEC_orectolobiformes$dispersal_multipliers_fn = dispersal_matrix\n",
    "}"
   ]
  },
  {
   "cell_type": "markdown",
   "metadata": {},
   "source": [
    "#### Fossil constraints"
   ]
  },
  {
   "cell_type": "code",
   "execution_count": null,
   "metadata": {},
   "outputs": [],
   "source": [
    "if(args[2] == 2){\n",
    "    DEC_orectolobiformes$fixnode = sort(c(getMRCA(temp, c(\"Chiloscyllium_griseum\",\"Chiloscyllium_hasseltii\", \"Chiloscyllium_arabicum\", \"Chiloscyllium_burmensis\", \"Chiloscyllium_plagiosum\", \"Chiloscyllium_indicum\", \"Chiloscyllium_punctatum\", \"Hemiscyllium_ocellatum\", \"Hemiscyllium_strahani\", \"Hemiscyllium_halmahera\", \"Hemiscyllium_galei\", \"Hemiscyllium_henryi\", \"Hemiscyllium_trispeculare\", \"Hemiscyllium_michaeli\", \"Hemiscyllium_hallstromi\", \"Ginglymostoma_cirratum\", \"Ginglymostoma_unami\", \"Nebrius_ferrugineus\", \"Pseudoginglymostoma_brevicaudatum\", \"Rhincodon_typus\", \"Stegostoma_fasciatum\")),\n",
    "                                 getMRCA(temp, c(\"Orectolobus_parvimaculatus\", \"Orectolobus_hutchinsi\", \"Orectolobus_maculatus\", \"Orectolobus_japonicus\", \"Orectolobus_leptolineatus\", \"Orectolobus_halei\", \"Orectolobus_ornatus\", \"Orectolobus_floridus\", \"Sutorectus_tentaculatus\", \"Eucrossorhinus_dasypogon\", \"Orectolobus_wardi\", \"Orectolobus_reticulatus\", \"Brachaelurus_waddi\", \"Brachaelurus_colcloughi\"))))\n",
    "    DEC_orectolobiformes$fixlikes = rbind(make_matrix(6, 7, 4), make_matrix(6, 7, 4))\n",
    "}"
   ]
  },
  {
   "cell_type": "code",
   "execution_count": null,
   "metadata": {},
   "outputs": [],
   "source": [
    "if(args[3] == 4){\n",
    "    DEC_orectolobiformes$fixnode = sort(c(getMRCA(temp, c(\"Chiloscyllium_griseum\",\"Chiloscyllium_hasseltii\", \"Chiloscyllium_arabicum\", \"Chiloscyllium_burmensis\", \"Chiloscyllium_plagiosum\", \"Chiloscyllium_indicum\", \"Chiloscyllium_punctatum\", \"Hemiscyllium_ocellatum\", \"Hemiscyllium_strahani\", \"Hemiscyllium_halmahera\", \"Hemiscyllium_galei\", \"Hemiscyllium_henryi\", \"Hemiscyllium_trispeculare\", \"Hemiscyllium_michaeli\", \"Hemiscyllium_hallstromi\", \"Ginglymostoma_cirratum\", \"Ginglymostoma_unami\", \"Nebrius_ferrugineus\", \"Pseudoginglymostoma_brevicaudatum\", \"Rhincodon_typus\", \"Stegostoma_fasciatum\")),\n",
    "                                 getMRCA(temp, c(\"Orectolobus_parvimaculatus\", \"Orectolobus_hutchinsi\", \"Orectolobus_maculatus\", \"Orectolobus_japonicus\", \"Orectolobus_leptolineatus\", \"Orectolobus_halei\", \"Orectolobus_ornatus\", \"Orectolobus_floridus\", \"Sutorectus_tentaculatus\", \"Eucrossorhinus_dasypogon\", \"Orectolobus_wardi\", \"Orectolobus_reticulatus\", \"Brachaelurus_waddi\", \"Brachaelurus_colcloughi\")),\n",
    "                                 getMRCA(temp, c(\"Orectolobus_parvimaculatus\", \"Orectolobus_hutchinsi\", \"Orectolobus_maculatus\", \"Orectolobus_japonicus\", \"Orectolobus_leptolineatus\", \"Orectolobus_halei\", \"Orectolobus_ornatus\", \"Orectolobus_floridus\", \"Sutorectus_tentaculatus\", \"Eucrossorhinus_dasypogon\", \"Orectolobus_wardi\", \"Orectolobus_reticulatus\")),\n",
    "                                 getMRCA(temp, c(\"Brachaelurus_waddi\", \"Brachaelurus_colcloughi\"))))\n",
    "    DEC_orectolobiformes$fixlikes = rbind(make_matrix(6, 7, 4), make_matrix(6, 7, 4), make_matrix(6, 7, 4), make_matrix(6, 7, 4))\n",
    "}"
   ]
  },
  {
   "cell_type": "markdown",
   "metadata": {},
   "source": [
    "#### Optimization parameters"
   ]
  },
  {
   "cell_type": "code",
   "execution_count": null,
   "metadata": {},
   "outputs": [],
   "source": [
    "DEC_orectolobiformes$force_sparse = FALSE\n",
    "DEC_orectolobiformes$on_NaN_error = -1e50\n",
    "DEC_orectolobiformes$speedup = FALSE        \n",
    "DEC_orectolobiformes$use_optimx = TRUE    \n",
    "DEC_orectolobiformes$num_cores_to_use = 24"
   ]
  },
  {
   "cell_type": "markdown",
   "metadata": {},
   "source": [
    "#### Dividing the tree per time periods"
   ]
  },
  {
   "cell_type": "code",
   "execution_count": null,
   "metadata": {},
   "outputs": [],
   "source": [
    "DEC_orectolobiformes$return_condlikes_table = TRUE\n",
    "DEC_orectolobiformes$calc_TTL_loglike_from_condlikes_table = TRUE\n",
    "DEC_orectolobiformes$calc_ancprobs = TRUE"
   ]
  },
  {
   "cell_type": "code",
   "execution_count": null,
   "metadata": {
    "scrolled": true
   },
   "outputs": [],
   "source": [
    "DEC_orectolobiformes = section_the_tree(inputs=DEC_orectolobiformes, make_master_table=TRUE, plot_pieces=FALSE, fossils_older_than=0.001, cut_fossils=FALSE)"
   ]
  },
  {
   "cell_type": "markdown",
   "metadata": {},
   "source": [
    "## Ancestral state estimation"
   ]
  },
  {
   "cell_type": "markdown",
   "metadata": {},
   "source": [
    "#### Finalize settings"
   ]
  },
  {
   "cell_type": "code",
   "execution_count": null,
   "metadata": {},
   "outputs": [],
   "source": [
    "DEC_orectolobiformes = readfiles_BioGeoBEARS_run(DEC_orectolobiformes)"
   ]
  },
  {
   "cell_type": "markdown",
   "metadata": {},
   "source": [
    "### Check inputs"
   ]
  },
  {
   "cell_type": "code",
   "execution_count": null,
   "metadata": {
    "scrolled": true
   },
   "outputs": [],
   "source": [
    "check_BioGeoBEARS_run(DEC_orectolobiformes)"
   ]
  },
  {
   "cell_type": "markdown",
   "metadata": {},
   "source": [
    "## Running the DEC analysis"
   ]
  },
  {
   "cell_type": "code",
   "execution_count": null,
   "metadata": {},
   "outputs": [],
   "source": [
    "runslow = TRUE\n",
    "run_results = paste(\"../DEC_Results/Consensus_tree/Raw_results/\", args[3], \".Rdata\", sep =\"\")\n",
    "if (runslow){\n",
    "    res = bears_optim_run(DEC_orectolobiformes)\n",
    "    res    \n",
    "    save(res, file=run_results)\n",
    "    resDEC = res\n",
    "} else {\n",
    "    load(run_results)\n",
    "    resDEC = res\n",
    "}"
   ]
  },
  {
   "cell_type": "markdown",
   "metadata": {},
   "source": [
    "## Prepare plotting ancestral range estimates"
   ]
  },
  {
   "cell_type": "code",
   "execution_count": null,
   "metadata": {},
   "outputs": [],
   "source": [
    "prepare_df_plot <- function(data_bgb){\n",
    "     data_plot_0 <- data.frame(matrix(nrow = nrow(data_bgb$relative_probs_of_each_state_at_branch_bottom_below_node_UPPASS),\n",
    "                                ncol = 8))\n",
    "      colnames(data_plot_0) <- c(\"end_state_1\", \"end_state_2\", \"end_state_3\", \n",
    "                              \"end_state_1_pp\", \"end_state_2_pp\", \"end_state_3_pp\", \n",
    "                              \"end_state_other_pp\", \"node\")\n",
    "\n",
    "    for (i in 1:nrow(data_bgb$ML_marginal_prob_each_state_at_branch_top_AT_node)) {\n",
    "        row <- data_bgb$ML_marginal_prob_each_state_at_branch_top_AT_node[i,]\n",
    "        data_plot_0[i, 1] <- order(row,decreasing=T)[1]\n",
    "        data_plot_0[i, 2] <- order(row,decreasing=T)[2]\n",
    "        data_plot_0[i, 3] <- order(row,decreasing=T)[3]\n",
    "        data_plot_0[i, 4] <- row[order(row,decreasing=T)[1]]\n",
    "        data_plot_0[i, 5] <- row[order(row,decreasing=T)[2]]\n",
    "        data_plot_0[i, 6] <- row[order(row,decreasing=T)[3]]\n",
    "        data_plot_0[i, 7] <- sum(row[order(row,decreasing=T)[4:length(row)]]) \n",
    "        data_plot_0[i, 8] <- i\n",
    "    }\n",
    "    \n",
    "    states_plot <- sort(unique(c(data_plot_0$end_state_1,data_plot_0$end_state_2, data_plot_0$end_state_3)))\n",
    "    full_data <- c()\n",
    "    for(i in 1:nrow(data_plot_0)){\n",
    "        temp_row <- rep(0, length(states_plot))\n",
    "        temp_row[which(states_plot == data_plot_0[i,1])] <- data_plot_0[i, 4]\n",
    "        temp_row[which(states_plot == data_plot_0[i,2])] <- data_plot_0[i, 5]\n",
    "        temp_row[which(states_plot == data_plot_0[i,3])] <- data_plot_0[i, 6]\n",
    "        temp_row[length(states_plot)+1] <- data_plot_0[i, 7]\n",
    "        full_data <- rbind(full_data, temp_row)\n",
    "    }\n",
    "    full_data <- as.data.frame(cbind(full_data, data_plot_0$node))\n",
    "    colnames(full_data) <- c(as.character(states_plot), \"Uncertain\", \"node\")\n",
    "    rownames(full_data) <- data_plot_0$node\n",
    "return(full_data)\n",
    "}"
   ]
  },
  {
   "cell_type": "markdown",
   "metadata": {},
   "source": [
    "### Saving ancestral range"
   ]
  },
  {
   "cell_type": "code",
   "execution_count": null,
   "metadata": {},
   "outputs": [],
   "source": [
    "saveRDS(prepare_df_plot(resDEC), paste(\"../DEC_Results/Consensus_tree/Ancestral_range/\", args[3], \".rds\", sep =\"\"))"
   ]
  }
 ],
 "metadata": {
  "kernelspec": {
   "display_name": "R",
   "language": "R",
   "name": "ir"
  },
  "language_info": {
   "codemirror_mode": "r",
   "file_extension": ".r",
   "mimetype": "text/x-r-source",
   "name": "R",
   "pygments_lexer": "r",
   "version": "4.3.3"
  }
 },
 "nbformat": 4,
 "nbformat_minor": 5
}
