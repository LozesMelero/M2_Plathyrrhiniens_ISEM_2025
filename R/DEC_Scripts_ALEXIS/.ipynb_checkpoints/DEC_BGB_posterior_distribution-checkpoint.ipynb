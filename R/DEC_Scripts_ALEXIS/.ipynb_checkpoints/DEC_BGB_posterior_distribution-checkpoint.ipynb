{
 "cells": [
  {
   "cell_type": "markdown",
   "metadata": {},
   "source": [
    "# DEC (BGB) posterior distribution"
   ]
  },
  {
   "cell_type": "markdown",
   "metadata": {},
   "source": [
    "## Loading data"
   ]
  },
  {
   "cell_type": "code",
   "execution_count": null,
   "metadata": {
    "scrolled": true
   },
   "outputs": [],
   "source": [
    "library(\"ape\")\n",
    "library(\"optimx\")\n",
    "library(\"GenSA\")\n",
    "library(\"rexpokit\")\n",
    "library(\"cladoRcpp\")\n",
    "library(\"snow\") \n",
    "library(\"parallel\")\n",
    "library(\"BioGeoBEARS\")"
   ]
  },
  {
   "cell_type": "code",
   "execution_count": null,
   "metadata": {},
   "outputs": [],
   "source": [
    "args = commandArgs(trailingOnly=TRUE)"
   ]
  },
  {
   "cell_type": "markdown",
   "metadata": {},
   "source": [
    "### Create function for fixing fossils"
   ]
  },
  {
   "cell_type": "code",
   "execution_count": null,
   "metadata": {},
   "outputs": [],
   "source": [
    "make_matrix <- function(max_range, total_area, constraint){\n",
    "    final_vec <- c()\n",
    "    for(i in 1:max_range){\n",
    "        temp_mat <- combn(1:total_area, i)\n",
    "        temp_vec <- rep(0, ncol(temp_mat))\n",
    "        for(j in 1:ncol(temp_mat)){\n",
    "            if(constraint %in% temp_mat[,j]){\n",
    "                temp_vec[j] <- 1\n",
    "            }\n",
    "        }\n",
    "        final_vec <- c(final_vec, temp_vec)\n",
    "    }\n",
    "    return(final_vec)\n",
    "}"
   ]
  },
  {
   "cell_type": "markdown",
   "metadata": {},
   "source": [
    "### Loading Tree"
   ]
  },
  {
   "cell_type": "code",
   "execution_count": null,
   "metadata": {},
   "outputs": [],
   "source": [
    "phy = paste(\"../../../Data/Tree_distribution_BGB/posterior_distribution_\", args[1], \".tree\", sep = \"\")\n",
    "temp <- read.tree(phy)"
   ]
  },
  {
   "cell_type": "markdown",
   "metadata": {},
   "source": [
    "### Loading presence-absence matrix"
   ]
  },
  {
   "cell_type": "code",
   "execution_count": null,
   "metadata": {},
   "outputs": [],
   "source": [
    "table_geo = \"../../../Data/DEC_BGB/7_area_biogeography_Orecto.txt\""
   ]
  },
  {
   "cell_type": "markdown",
   "metadata": {},
   "source": [
    "### Loading time period file"
   ]
  },
  {
   "cell_type": "code",
   "execution_count": null,
   "metadata": {},
   "outputs": [],
   "source": [
    "time_period= \"../../../Data/DEC_BGB/7_area_time_period.txt\""
   ]
  },
  {
   "cell_type": "markdown",
   "metadata": {},
   "source": [
    "### Loading connectivity matrix"
   ]
  },
  {
   "cell_type": "code",
   "execution_count": null,
   "metadata": {},
   "outputs": [],
   "source": [
    "connectivity_matrix = \"../../../Data/DEC_BGB/7_area_area_matrix.txt\""
   ]
  },
  {
   "cell_type": "markdown",
   "metadata": {},
   "source": [
    "### Loading dispersal matrix"
   ]
  },
  {
   "cell_type": "code",
   "execution_count": null,
   "metadata": {},
   "outputs": [],
   "source": [
    "if(args[2]){\n",
    "    dispersal_matrix = \"../../../Data/DEC_BGB/7_area_dispersal_matrix.txt\"\n",
    "}"
   ]
  },
  {
   "cell_type": "markdown",
   "metadata": {},
   "source": [
    "## Setting up DEC"
   ]
  },
  {
   "cell_type": "markdown",
   "metadata": {},
   "source": [
    "### Intitialize DEC model"
   ]
  },
  {
   "cell_type": "code",
   "execution_count": null,
   "metadata": {},
   "outputs": [],
   "source": [
    "DEC_orectolobiformes = define_BioGeoBEARS_run()"
   ]
  },
  {
   "cell_type": "markdown",
   "metadata": {},
   "source": [
    "### Setting up DEC input data"
   ]
  },
  {
   "cell_type": "markdown",
   "metadata": {},
   "source": [
    "#### Phylogeny"
   ]
  },
  {
   "cell_type": "code",
   "execution_count": null,
   "metadata": {},
   "outputs": [],
   "source": [
    "DEC_orectolobiformes$trfn = phy"
   ]
  },
  {
   "cell_type": "markdown",
   "metadata": {},
   "source": [
    "#### Presence-absence matrix"
   ]
  },
  {
   "cell_type": "code",
   "execution_count": null,
   "metadata": {},
   "outputs": [],
   "source": [
    "DEC_orectolobiformes$geogfn = table_geo"
   ]
  },
  {
   "cell_type": "markdown",
   "metadata": {},
   "source": [
    "#### Tip range"
   ]
  },
  {
   "cell_type": "code",
   "execution_count": null,
   "metadata": {},
   "outputs": [],
   "source": [
    "tipranges = getranges_from_LagrangePHYLIP(lgdata_fn=table_geo)"
   ]
  },
  {
   "cell_type": "markdown",
   "metadata": {},
   "source": [
    "#### Maximum range size"
   ]
  },
  {
   "cell_type": "code",
   "execution_count": null,
   "metadata": {},
   "outputs": [],
   "source": [
    "max_range_size = 6\n",
    "DEC_orectolobiformes$max_range_size = max_range_size"
   ]
  },
  {
   "cell_type": "markdown",
   "metadata": {},
   "source": [
    "#### State list"
   ]
  },
  {
   "cell_type": "code",
   "execution_count": null,
   "metadata": {},
   "outputs": [],
   "source": [
    "areas = getareas_from_tipranges_object(tipranges)\n",
    "states_area_list = rcpp_areas_list_to_states_list(areas=areas, maxareas=max_range_size, include_null_range=FALSE)\n",
    "DEC_orectolobiformes$states_list = states_area_list"
   ]
  },
  {
   "cell_type": "markdown",
   "metadata": {},
   "source": [
    "#### Time periods"
   ]
  },
  {
   "cell_type": "code",
   "execution_count": null,
   "metadata": {},
   "outputs": [],
   "source": [
    "DEC_orectolobiformes$timesfn = time_period"
   ]
  },
  {
   "cell_type": "code",
   "execution_count": null,
   "metadata": {},
   "outputs": [],
   "source": [
    "DEC_orectolobiformes$timeperiods = unlist((unname(c(read.table(time_period)))))"
   ]
  },
  {
   "cell_type": "markdown",
   "metadata": {},
   "source": [
    "#### Connectivity matrix"
   ]
  },
  {
   "cell_type": "code",
   "execution_count": null,
   "metadata": {},
   "outputs": [],
   "source": [
    "DEC_orectolobiformes$areas_adjacency_fn = connectivity_matrix"
   ]
  },
  {
   "cell_type": "markdown",
   "metadata": {},
   "source": [
    "#### Dispersal matrix"
   ]
  },
  {
   "cell_type": "code",
   "execution_count": null,
   "metadata": {},
   "outputs": [],
   "source": [
    "if(args[2]){\n",
    "    DEC_orectolobiformes$dispersal_multipliers_fn = dispersal_matrix\n",
    "}"
   ]
  },
  {
   "cell_type": "markdown",
   "metadata": {},
   "source": [
    "#### Fossil constraints"
   ]
  },
  {
   "cell_type": "code",
   "execution_count": null,
   "metadata": {},
   "outputs": [],
   "source": [
    "if(args[3] == 2){\n",
    "    DEC_orectolobiformes$fixnode = sort(c(getMRCA(temp, c(\"Chiloscyllium_griseum\",\"Chiloscyllium_hasseltii\", \"Chiloscyllium_arabicum\", \"Chiloscyllium_burmensis\", \"Chiloscyllium_plagiosum\", \"Chiloscyllium_indicum\", \"Chiloscyllium_punctatum\", \"Hemiscyllium_ocellatum\", \"Hemiscyllium_strahani\", \"Hemiscyllium_halmahera\", \"Hemiscyllium_galei\", \"Hemiscyllium_henryi\", \"Hemiscyllium_trispeculare\", \"Hemiscyllium_michaeli\", \"Hemiscyllium_hallstromi\", \"Ginglymostoma_cirratum\", \"Ginglymostoma_unami\", \"Nebrius_ferrugineus\", \"Pseudoginglymostoma_brevicaudatum\", \"Rhincodon_typus\", \"Stegostoma_fasciatum\")),\n",
    "                                 getMRCA(temp, c(\"Orectolobus_parvimaculatus\", \"Orectolobus_hutchinsi\", \"Orectolobus_maculatus\", \"Orectolobus_japonicus\", \"Orectolobus_leptolineatus\", \"Orectolobus_halei\", \"Orectolobus_ornatus\", \"Orectolobus_floridus\", \"Sutorectus_tentaculatus\", \"Eucrossorhinus_dasypogon\", \"Orectolobus_wardi\", \"Orectolobus_reticulatus\", \"Brachaelurus_waddi\", \"Brachaelurus_colcloughi\"))))\n",
    "    DEC_orectolobiformes$fixlikes = rbind(make_matrix(6, 7, 4), make_matrix(6, 7, 4))\n",
    "}"
   ]
  },
  {
   "cell_type": "code",
   "execution_count": null,
   "metadata": {},
   "outputs": [],
   "source": [
    "if(args[3] == 4){\n",
    "    DEC_orectolobiformes$fixnode = sort(c(getMRCA(temp, c(\"Chiloscyllium_griseum\",\"Chiloscyllium_hasseltii\", \"Chiloscyllium_arabicum\", \"Chiloscyllium_burmensis\", \"Chiloscyllium_plagiosum\", \"Chiloscyllium_indicum\", \"Chiloscyllium_punctatum\", \"Hemiscyllium_ocellatum\", \"Hemiscyllium_strahani\", \"Hemiscyllium_halmahera\", \"Hemiscyllium_galei\", \"Hemiscyllium_henryi\", \"Hemiscyllium_trispeculare\", \"Hemiscyllium_michaeli\", \"Hemiscyllium_hallstromi\", \"Ginglymostoma_cirratum\", \"Ginglymostoma_unami\", \"Nebrius_ferrugineus\", \"Pseudoginglymostoma_brevicaudatum\", \"Rhincodon_typus\", \"Stegostoma_fasciatum\")),\n",
    "                                 getMRCA(temp, c(\"Orectolobus_parvimaculatus\", \"Orectolobus_hutchinsi\", \"Orectolobus_maculatus\", \"Orectolobus_japonicus\", \"Orectolobus_leptolineatus\", \"Orectolobus_halei\", \"Orectolobus_ornatus\", \"Orectolobus_floridus\", \"Sutorectus_tentaculatus\", \"Eucrossorhinus_dasypogon\", \"Orectolobus_wardi\", \"Orectolobus_reticulatus\", \"Brachaelurus_waddi\", \"Brachaelurus_colcloughi\")),\n",
    "                                 getMRCA(temp, c(\"Orectolobus_parvimaculatus\", \"Orectolobus_hutchinsi\", \"Orectolobus_maculatus\", \"Orectolobus_japonicus\", \"Orectolobus_leptolineatus\", \"Orectolobus_halei\", \"Orectolobus_ornatus\", \"Orectolobus_floridus\", \"Sutorectus_tentaculatus\", \"Eucrossorhinus_dasypogon\", \"Orectolobus_wardi\", \"Orectolobus_reticulatus\")),\n",
    "                                 getMRCA(temp, c(\"Brachaelurus_waddi\", \"Brachaelurus_colcloughi\"))))\n",
    "    DEC_orectolobiformes$fixlikes = rbind(make_matrix(6, 7, 4), make_matrix(6, 7, 4), make_matrix(6, 7, 4), make_matrix(6, 7, 4))\n",
    "}"
   ]
  },
  {
   "cell_type": "markdown",
   "metadata": {},
   "source": [
    "#### Optimization parameters"
   ]
  },
  {
   "cell_type": "code",
   "execution_count": null,
   "metadata": {},
   "outputs": [],
   "source": [
    "DEC_orectolobiformes$force_sparse = FALSE\n",
    "DEC_orectolobiformes$on_NaN_error = -1e50\n",
    "DEC_orectolobiformes$speedup = FALSE        \n",
    "DEC_orectolobiformes$use_optimx = TRUE    \n",
    "DEC_orectolobiformes$num_cores_to_use = 24"
   ]
  },
  {
   "cell_type": "markdown",
   "metadata": {},
   "source": [
    "#### Dividing the tree per time periods"
   ]
  },
  {
   "cell_type": "code",
   "execution_count": null,
   "metadata": {},
   "outputs": [],
   "source": [
    "DEC_orectolobiformes$return_condlikes_table = TRUE\n",
    "DEC_orectolobiformes$calc_TTL_loglike_from_condlikes_table = TRUE\n",
    "DEC_orectolobiformes$calc_ancprobs = TRUE"
   ]
  },
  {
   "cell_type": "code",
   "execution_count": null,
   "metadata": {
    "scrolled": true
   },
   "outputs": [],
   "source": [
    "DEC_orectolobiformes = section_the_tree(inputs=DEC_orectolobiformes, make_master_table=TRUE, plot_pieces=FALSE, fossils_older_than=0.001, cut_fossils=FALSE)"
   ]
  },
  {
   "cell_type": "markdown",
   "metadata": {},
   "source": [
    "## Ancestral state estimation"
   ]
  },
  {
   "cell_type": "markdown",
   "metadata": {},
   "source": [
    "#### Finalize settings"
   ]
  },
  {
   "cell_type": "code",
   "execution_count": null,
   "metadata": {},
   "outputs": [],
   "source": [
    "DEC_orectolobiformes = readfiles_BioGeoBEARS_run(DEC_orectolobiformes)"
   ]
  },
  {
   "cell_type": "markdown",
   "metadata": {},
   "source": [
    "### Check inputs"
   ]
  },
  {
   "cell_type": "code",
   "execution_count": null,
   "metadata": {
    "scrolled": true
   },
   "outputs": [],
   "source": [
    "check_BioGeoBEARS_run(DEC_orectolobiformes)"
   ]
  },
  {
   "cell_type": "markdown",
   "metadata": {},
   "source": [
    "## Running the DEC analysis"
   ]
  },
  {
   "cell_type": "code",
   "execution_count": null,
   "metadata": {},
   "outputs": [],
   "source": [
    "runslow = TRUE\n",
    "run_results = paste(\"../DEC_Results/Posterior_distribution/\", args[4], \"/\", args[4], \"_\", args[1], \".Rdata\", sep =\"\")\n",
    "if (runslow){\n",
    "    res = bears_optim_run(DEC_orectolobiformes)\n",
    "    res    \n",
    "    save(res, file=run_results)\n",
    "    resDEC = res\n",
    "} else {\n",
    "    load(run_results)\n",
    "    resDEC = res\n",
    "}"
   ]
  }
 ],
 "metadata": {
  "kernelspec": {
   "display_name": "R",
   "language": "R",
   "name": "ir"
  },
  "language_info": {
   "codemirror_mode": "r",
   "file_extension": ".r",
   "mimetype": "text/x-r-source",
   "name": "R",
   "pygments_lexer": "r",
   "version": "4.3.3"
  }
 },
 "nbformat": 4,
 "nbformat_minor": 5
}
