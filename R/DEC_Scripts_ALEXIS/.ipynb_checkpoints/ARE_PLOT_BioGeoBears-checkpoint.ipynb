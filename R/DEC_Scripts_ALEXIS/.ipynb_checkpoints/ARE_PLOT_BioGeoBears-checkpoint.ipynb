{
 "cells": [
  {
   "cell_type": "markdown",
   "metadata": {},
   "source": [
    "# Plot ancestral range"
   ]
  },
  {
   "cell_type": "markdown",
   "metadata": {},
   "source": [
    "## Loading packages"
   ]
  },
  {
   "cell_type": "code",
   "execution_count": null,
   "metadata": {
    "scrolled": false
   },
   "outputs": [],
   "source": [
    "library(\"stringr\")\n",
    "library(\"phytools\")\n",
    "library(\"ggtree\")\n",
    "library(\"ggplot2\")\n",
    "library(\"ggpmisc\")\n",
    "library(\"deeptime\")"
   ]
  },
  {
   "cell_type": "code",
   "execution_count": null,
   "metadata": {},
   "outputs": [],
   "source": [
    "args = commandArgs(trailingOnly=TRUE)"
   ]
  },
  {
   "cell_type": "markdown",
   "metadata": {},
   "source": [
    "## Loading data"
   ]
  },
  {
   "cell_type": "code",
   "execution_count": null,
   "metadata": {},
   "outputs": [],
   "source": [
    "trait_model<-readRDS(args[1])\n",
    "phy<-read.tree(\"../../../Data/consensus_tree_orecto.tree\")"
   ]
  },
  {
   "cell_type": "markdown",
   "metadata": {},
   "source": [
    "### Plot 3 most-likely states"
   ]
  },
  {
   "cell_type": "code",
   "execution_count": null,
   "metadata": {},
   "outputs": [],
   "source": [
    "if(args[2] == 3){\n",
    "   trait_model <- trait_model[,-(ncol(trait_model) - 1)] \n",
    "}"
   ]
  },
  {
   "cell_type": "markdown",
   "metadata": {},
   "source": [
    "## Data preparation"
   ]
  },
  {
   "cell_type": "markdown",
   "metadata": {},
   "source": [
    "### Preparing the tree"
   ]
  },
  {
   "cell_type": "code",
   "execution_count": null,
   "metadata": {},
   "outputs": [],
   "source": [
    "phy$tip.label <- gsub(\"_\", \" \", phy$tip.label)"
   ]
  },
  {
   "cell_type": "markdown",
   "metadata": {},
   "source": [
    "### Define node and tips datasets"
   ]
  },
  {
   "cell_type": "code",
   "execution_count": null,
   "metadata": {},
   "outputs": [],
   "source": [
    "node_states_biogeo <- trait_model[(length(phy$tip.label) + 1):(2*length(phy$tip.label) - 1),]\n",
    "tip_states_biogeo <- trait_model[1:length(phy$tip.label),]"
   ]
  },
  {
   "cell_type": "markdown",
   "metadata": {},
   "source": [
    "### Setting color list "
   ]
  },
  {
   "cell_type": "code",
   "execution_count": null,
   "metadata": {},
   "outputs": [],
   "source": [
    "color_list <- c(\"#DAA07F\", \"#E3DCB8\", \"#C8E8AB\", \"#B0E9D5\", \"#B68FCD\", \"#FFD1C2\", \"#569BE0\", \n",
    "                \"#e0be9b\", \"#ef6f7f\", \"chocolate\",\n",
    "                \"#697F5C\", \"darkorchid\",\n",
    "                \"#add0bd\",  \"#c72c48\",\n",
    "                \"coral\", \"#b7a2cf\",\n",
    "                \"darkseagreen\", \"deepskyblue\", \"darkcyan\", \"Grey\")"
   ]
  },
  {
   "cell_type": "code",
   "execution_count": null,
   "metadata": {},
   "outputs": [],
   "source": [
    "color_list <- setNames(color_list, (c(1:8,12,13,14,19,20,23,24,26,28,63,123, \"Uncertain\")))"
   ]
  },
  {
   "cell_type": "markdown",
   "metadata": {},
   "source": [
    "### Plotting the phylogeny"
   ]
  },
  {
   "cell_type": "code",
   "execution_count": null,
   "metadata": {},
   "outputs": [],
   "source": [
    "phylo_plot <- ggtree(phy) +\n",
    "           geom_tiplab(offset = 2, fontface = \"italic\", size = 2) +\n",
    "           theme_bw() +\n",
    "           theme(panel.border = element_blank(),\n",
    "           legend.key = element_blank(),\n",
    "           axis.ticks = element_blank(),\n",
    "           axis.text.y = element_blank(),\n",
    "           axis.text.x = element_blank(),\n",
    "           panel.grid = element_blank(),\n",
    "           panel.grid.minor = element_blank(), \n",
    "           panel.grid.major = element_blank(),\n",
    "           panel.background = element_blank(),\n",
    "           plot.background = element_rect(fill = \"transparent\",colour = NA)) + \n",
    "coord_geo(neg = T, pos = as.list(rep(\"bottom\", 2)),\n",
    "dat = list(\"epochs\", \"periods\"), height = list(unit(1, \"lines\"), unit(1, \"line\")), size = list(2, 3), abbrv = \"auto\", skip = c(\"Pliocene\", \"Pleistocene\", \"Holocene\"))"
   ]
  },
  {
   "cell_type": "code",
   "execution_count": null,
   "metadata": {},
   "outputs": [],
   "source": [
    "phylo_plot <- revts(phylo_plot) +\n",
    "           xlim(-250, 100) + ylim(0, 40)"
   ]
  },
  {
   "cell_type": "markdown",
   "metadata": {},
   "source": [
    "## Plot ancestral states"
   ]
  },
  {
   "cell_type": "markdown",
   "metadata": {},
   "source": [
    "### Prepare ancestral states as nodes"
   ]
  },
  {
   "cell_type": "code",
   "execution_count": null,
   "metadata": {},
   "outputs": [],
   "source": [
    "pies <- nodepie(node_states_biogeo, cols=1:(ncol(trait_model)-1), color=color_list, alpha=1)\n",
    "anc <- tibble::tibble(node=as.numeric(node_states_biogeo$node), pies=pies)"
   ]
  },
  {
   "cell_type": "code",
   "execution_count": null,
   "metadata": {},
   "outputs": [],
   "source": [
    "phy_plot_anc <- phylo_plot %<+% anc\n",
    "phy_plot_anc <- phy_plot_anc + geom_plot(data=td_filter(!isTip), mapping=aes(x=x,y=y, label=pies), vp.width=0.04, vp.height=0.04, hjust=0.6, vjust=0.6)"
   ]
  },
  {
   "cell_type": "markdown",
   "metadata": {},
   "source": [
    "### Prepare data for tippoints"
   ]
  },
  {
   "cell_type": "code",
   "execution_count": null,
   "metadata": {
    "scrolled": true
   },
   "outputs": [],
   "source": [
    "tips_vec <- c()\n",
    "\n",
    "for(i in 1:nrow(tip_states_biogeo)){\n",
    "    temp_tip_states_biogeo <- tip_states_biogeo[,-ncol(tip_states_biogeo)]\n",
    "    tips_vec <- c(tips_vec, colnames(temp_tip_states_biogeo)[which(temp_tip_states_biogeo[i,]==1)])\n",
    "}\n",
    "\n",
    "tips_vec <- as.factor(tips_vec)\n",
    "levels(tips_vec) <- c(levels(tips_vec), setdiff(rownames(tip_states_biogeo[-1]), levels(tips_vec)))\n",
    "df_tips <- data.frame(Species = phy$tip.label, tips_vec)"
   ]
  },
  {
   "cell_type": "markdown",
   "metadata": {},
   "source": [
    "## Plot ancestral tips"
   ]
  },
  {
   "cell_type": "code",
   "execution_count": null,
   "metadata": {},
   "outputs": [],
   "source": [
    "phy_complete <- phy_plot_anc %<+% df_tips\n",
    "ASE_plot <- phy_complete + geom_tippoint(aes(color = as.character(tips_vec)), show.legend = TRUE) + \n",
    "    scale_color_manual(values = color_list, drop = TRUE, limits = names(color_list)) +\n",
    "    theme(legend.position = c(0.20, 0.875)) + \n",
    "guides(color = guide_legend(ncol=4, title = \"Biogeographic regions\"))"
   ]
  },
  {
   "cell_type": "markdown",
   "metadata": {},
   "source": [
    "## Save figure"
   ]
  },
  {
   "cell_type": "code",
   "execution_count": null,
   "metadata": {},
   "outputs": [],
   "source": [
    "ggsave(ASE_plot, filename = args[3],  bg = \"transparent\")"
   ]
  }
 ],
 "metadata": {
  "kernelspec": {
   "display_name": "R",
   "language": "R",
   "name": "ir"
  },
  "language_info": {
   "codemirror_mode": "r",
   "file_extension": ".r",
   "mimetype": "text/x-r-source",
   "name": "R",
   "pygments_lexer": "r",
   "version": "4.3.3"
  }
 },
 "nbformat": 4,
 "nbformat_minor": 4
}
