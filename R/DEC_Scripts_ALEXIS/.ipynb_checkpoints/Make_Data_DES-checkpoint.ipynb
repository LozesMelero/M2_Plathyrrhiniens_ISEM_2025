{
 "cells": [
  {
   "cell_type": "markdown",
   "metadata": {},
   "source": [
    "# Make data for DES"
   ]
  },
  {
   "cell_type": "markdown",
   "metadata": {},
   "source": [
    "## Loading packages"
   ]
  },
  {
   "cell_type": "code",
   "execution_count": 1,
   "metadata": {},
   "outputs": [
    {
     "name": "stderr",
     "output_type": "stream",
     "text": [
      "Le chargement a nécessité le package : diversitree\n",
      "\n",
      "Le chargement a nécessité le package : TreeSim\n",
      "\n",
      "Le chargement a nécessité le package : geiger\n",
      "\n",
      "Le chargement a nécessité le package : phytools\n",
      "\n",
      "Le chargement a nécessité le package : maps\n",
      "\n",
      "Le chargement a nécessité le package : picante\n",
      "\n",
      "Le chargement a nécessité le package : vegan\n",
      "\n",
      "Le chargement a nécessité le package : permute\n",
      "\n",
      "Le chargement a nécessité le package : lattice\n",
      "\n",
      "This is vegan 2.6-8\n",
      "\n",
      "\n",
      "Attachement du package : ‘vegan’\n",
      "\n",
      "\n",
      "L'objet suivant est masqué depuis ‘package:phytools’:\n",
      "\n",
      "    scores\n",
      "\n",
      "\n",
      "Le chargement a nécessité le package : nlme\n",
      "\n"
     ]
    }
   ],
   "source": [
    "library(\"ape\")\n",
    "library(\"SpeciesAge\")"
   ]
  },
  {
   "cell_type": "markdown",
   "metadata": {},
   "source": [
    "## Loading data"
   ]
  },
  {
   "cell_type": "code",
   "execution_count": 2,
   "metadata": {},
   "outputs": [
    {
     "name": "stderr",
     "output_type": "stream",
     "text": [
      "Warning message in file(file, \"rt\"):\n",
      "“impossible d'ouvrir le fichier '../Fossil_record/Occurences_extinct_Orectolobiformes.tsv' : Aucun fichier ou dossier de ce type”\n"
     ]
    },
    {
     "ename": "ERROR",
     "evalue": "Error in file(file, \"rt\"): impossible d'ouvrir la connexion\n",
     "output_type": "error",
     "traceback": [
      "Error in file(file, \"rt\"): impossible d'ouvrir la connexion\nTraceback:\n",
      "1. read.table(\"../Fossil_record/Occurences_extinct_Orectolobiformes.tsv\", \n .     sep = \"\\t\", header = TRUE)",
      "2. file(file, \"rt\")"
     ]
    }
   ],
   "source": [
    "table_occ <- read.table(\"../\", sep =\"\\t\", header = TRUE)"
   ]
  },
  {
   "cell_type": "code",
   "execution_count": 10,
   "metadata": {},
   "outputs": [],
   "source": [
    "tree_distribution <- read.tree(\"../Data_orectolobiformes/posterior_distribution_100_tree_orecto.tree\")"
   ]
  },
  {
   "cell_type": "markdown",
   "metadata": {},
   "source": [
    "## Cleaning data"
   ]
  },
  {
   "cell_type": "code",
   "execution_count": 11,
   "metadata": {},
   "outputs": [],
   "source": [
    "table_species <- table_occ[-grep(\"sp[.]\", table_occ$Species),]"
   ]
  },
  {
   "cell_type": "code",
   "execution_count": 12,
   "metadata": {},
   "outputs": [],
   "source": [
    "table_species_no_extant <- table_species[!(table_species$Species == c(\"Rhincodon typus\") | table_species$Species == c(\"Ginglymostoma cirratum\")),]"
   ]
  },
  {
   "cell_type": "markdown",
   "metadata": {},
   "source": [
    "## DES"
   ]
  },
  {
   "cell_type": "markdown",
   "metadata": {},
   "source": [
    "### Create function for DES"
   ]
  },
  {
   "cell_type": "code",
   "execution_count": 21,
   "metadata": {},
   "outputs": [],
   "source": [
    "make_table_DES <- function(table_fossil, prefix, col){\n",
    "    \n",
    "    temp_table <- cbind(table_fossil[,col], table_fossil$Earliest.Age, table_fossil$Latest.Age, table_fossil$Paleobiogeography_1)\n",
    "    for(i in 1:nrow(table_fossil)){\n",
    "        if(table_fossil$Paleobiogeography_2[i] != \"North_Atlantic_Tethys\"){\n",
    "            temp_table[i,4] <- \"Outher\"\n",
    "        }\n",
    "    }\n",
    "    colnames(temp_table) <- c(\"scientificName\", \"earliestAge\", \"latestAge\", \"higherGeography\")\n",
    "write.table(temp_table, paste(prefix, \"_extinct_North_Atlantic_Tethys.txt\", sep = \"\"), col.names = TRUE, row.names = FALSE, quote = FALSE, sep = \"\\t\")\n",
    "}"
   ]
  },
  {
   "cell_type": "markdown",
   "metadata": {},
   "source": [
    "### Execute function for species dataset"
   ]
  },
  {
   "cell_type": "code",
   "execution_count": 22,
   "metadata": {
    "scrolled": false
   },
   "outputs": [],
   "source": [
    "make_table_DES(table_species, \"../DES/Input/Sp\", 4)"
   ]
  },
  {
   "cell_type": "markdown",
   "metadata": {},
   "source": [
    "### Execute function for genus dataset"
   ]
  },
  {
   "cell_type": "code",
   "execution_count": 23,
   "metadata": {},
   "outputs": [],
   "source": [
    "make_table_DES(table_occ, \"../DES/Input/Gen\", 3)"
   ]
  },
  {
   "cell_type": "code",
   "execution_count": 41,
   "metadata": {},
   "outputs": [],
   "source": [
    "tab <- read.table(\"../DES/Input/Gen_extinct_Tethys.txt\", sep =\"\\t\", header = TRUE)"
   ]
  },
  {
   "cell_type": "code",
   "execution_count": 42,
   "metadata": {},
   "outputs": [],
   "source": [
    "write.table(tab[tab$earliestAge < 100.5,], \"../DES/Input/Gen_extinct_Tethys_reduced.txt\", col.names = TRUE, row.names = FALSE, quote = FALSE, sep = \"\\t\")"
   ]
  }
 ],
 "metadata": {
  "kernelspec": {
   "display_name": "R",
   "language": "R",
   "name": "ir"
  },
  "language_info": {
   "codemirror_mode": "r",
   "file_extension": ".r",
   "mimetype": "text/x-r-source",
   "name": "R",
   "pygments_lexer": "r",
   "version": "4.3.3"
  }
 },
 "nbformat": 4,
 "nbformat_minor": 4
}
